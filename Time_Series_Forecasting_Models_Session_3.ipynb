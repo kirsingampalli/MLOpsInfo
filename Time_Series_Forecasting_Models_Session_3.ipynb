{
 "cells": [
  {
   "cell_type": "code",
   "execution_count": 4,
   "metadata": {
    "colab": {
     "base_uri": "https://localhost:8080/"
    },
    "id": "FMFzT66HluhO",
    "outputId": "fa0ea740-f63e-4534-9014-eeae6bf33ebd"
   },
   "outputs": [
    {
     "name": "stdout",
     "output_type": "stream",
     "text": [
      "[1.3268491024377413, 2.7915695651883743, 3.1028707175968986, 4.703948555681911, 5.087552704484339, 6.194103390955288, 7.535462906190081, 8.138438678537327, 9.87556727799111, 10.645170435077405, 11.875163986328353, 12.739790520743158, 13.984866850764474, 14.33942756370745, 15.798291726332883, 16.683024245530113, 17.69133577959367, 18.998480589633676, 19.78843647055398, 20.42896737122109, 21.435296460495657, 22.154768359726987, 23.204343913842777, 24.882413456485033, 25.734131941914455, 26.940725400724215, 27.308032379912625, 28.21586319573046, 29.151729765380757, 30.54953910973189, 31.025478466608597, 32.87819199723542, 33.94294841128756, 34.62514342761103, 35.132262746437505, 36.65942602867372, 37.90571802028284, 38.14387852400267, 39.82329992418568, 40.27007543443221, 41.070011320761196, 42.28281453711229, 43.346501248912986, 44.74152856325027, 45.009002017942755, 46.10638141583722, 47.23694413020886, 48.188695462225674, 49.370708587951526, 50.124286391823844, 51.840608880607036, 52.66961753957913, 53.70169454837174, 54.56904046720844, 55.83316983733348, 56.159784397177, 57.65427793588442, 58.49611963858593, 59.952016042315606, 60.4382623754594, 61.56500427735189, 62.993374919997386, 63.38842254968945, 64.3691503137411, 65.87999863994263, 66.28891662960065, 67.46273270546008, 68.38025796542856, 69.10122076438057, 70.55737951462972, 71.95197293848578, 72.63960391384764, 73.47836984731221, 74.82037357171289, 75.24898025833848, 76.21560689630097, 77.88884644750318, 78.23209228603854, 79.80025845957148, 80.40556610030215, 81.26649188414164, 82.03788950476138, 83.659678493096, 84.8555275096959, 85.6162226068792, 86.44865898914168, 87.25261915559618, 88.08209479296191, 89.35544618379375, 90.27695123665052, 91.73276960025461, 92.59529986113246, 93.54366712849561, 94.9483566450649, 95.5679566500399, 96.86786150048195, 97.32620145925365, 98.14610111808861, 99.31743669030197]\n",
      "[100.30099752]\n"
     ]
    }
   ],
   "source": [
    "# Autoregression (AR)\n",
    "\n",
    "# The autoregression (AR) method predicts the subsequent value in a sequence using a linear combination of previous observations.\n",
    "# The method is best suited for single-variable time series that lack trend and seasonal components.\n",
    "\n",
    "from statsmodels.tsa.ar_model import AutoReg\n",
    "from random import random\n",
    "\n",
    "# contrived dataset\n",
    "data = [x + random() for x in range(1, 100)]\n",
    "print(data)\n",
    "\n",
    "# fit model\n",
    "model = AutoReg(data, lags=1)\n",
    "model_fit = model.fit()\n",
    "\n",
    "# make prediction\n",
    "yhat = model_fit.predict(len(data), len(data))\n",
    "print(yhat)"
   ]
  },
  {
   "cell_type": "code",
   "execution_count": 6,
   "metadata": {
    "colab": {
     "base_uri": "https://localhost:8080/"
    },
    "id": "T8cMF_CAmw3N",
    "outputId": "45e0660f-55aa-4ae7-f14d-6cdcedf9268f"
   },
   "outputs": [
    {
     "name": "stdout",
     "output_type": "stream",
     "text": [
      "[75.23887689]\n"
     ]
    }
   ],
   "source": [
    "# Moving Average (MA)\n",
    "\n",
    "# The Moving Average (MA) method models predict the next step in the sequence as a linear function of the residual errors from a mean process at prior time steps.\n",
    "# It’s important to note that a Moving Average model is different from calculating the moving average of the time series.\n",
    "# The method is suitable for univariate time series without trend and seasonal components.\n",
    "\n",
    "from statsmodels.tsa.arima.model import ARIMA\n",
    "from random import random\n",
    "\n",
    "# contrived dataset\n",
    "data = [x + random() for x in range(1, 100)]\n",
    "\n",
    "# fit model\n",
    "model = ARIMA(data, order=(0, 0, 1))\n",
    "model_fit = model.fit()\n",
    "\n",
    "# make prediction\n",
    "yhat = model_fit.predict(len(data), len(data))\n",
    "print(yhat)"
   ]
  },
  {
   "cell_type": "code",
   "execution_count": 9,
   "metadata": {
    "colab": {
     "base_uri": "https://localhost:8080/"
    },
    "id": "qr2Zi3h3oFqD",
    "outputId": "d50c461a-b69e-4842-dfe0-79ecbde3dd92"
   },
   "outputs": [
    {
     "name": "stdout",
     "output_type": "stream",
     "text": [
      "[0.49419984]\n"
     ]
    }
   ],
   "source": [
    "# Autoregressive Moving Average (ARMA)\n",
    "\n",
    "# The Autoregressive Moving Average (ARMA) method model predicts the next step in the sequence based on a linear combination of both past observations and past residual errors.\n",
    "# The method combines both Autoregression (AR) and Moving Average (MA) models.\n",
    "# The method is suitable for univariate time series without trend and seasonal components.\n",
    "\n",
    "from statsmodels.tsa.arima.model import ARIMA\n",
    "from random import random\n",
    "\n",
    "# contrived dataset\n",
    "data = [random() for x in range(1, 100)]\n",
    "\n",
    "# fit model\n",
    "model = ARIMA(data, order=(2, 0, 1))\n",
    "model_fit = model.fit()\n",
    "\n",
    "# make prediction\n",
    "yhat = model_fit.predict(len(data), len(data))\n",
    "print(yhat)"
   ]
  },
  {
   "cell_type": "code",
   "execution_count": 11,
   "metadata": {
    "colab": {
     "base_uri": "https://localhost:8080/"
    },
    "id": "cBvGCESgoFwN",
    "outputId": "b9496b70-0cf4-4384-cc36-f77302e0735c"
   },
   "outputs": [
    {
     "name": "stdout",
     "output_type": "stream",
     "text": [
      "[100.58636678]\n"
     ]
    }
   ],
   "source": [
    "# Autoregressive Integrated Moving Average (ARIMA)\n",
    "\n",
    "# The Autoregressive Integrated Moving Average (ARIMA) method model predicts the next step in the sequence as a linear function of the differenced observations and residual errors at prior time steps.\n",
    "# The method integrates the principles of Autoregression (AR) and Moving Average (MA) models as well as a differencing pre-processing step of the sequence to make the sequence stationary, called integration (I).\n",
    "# The ARIMA approach is optimal for single-variable time series that exhibit a trend but lack seasonal variations.\n",
    "\n",
    "from statsmodels.tsa.arima.model import ARIMA\n",
    "from random import random\n",
    "\n",
    "# contrived dataset\n",
    "data = [x + random() for x in range(1, 100)]\n",
    "\n",
    "# fit model\n",
    "model = ARIMA(data, order=(1, 1, 1))\n",
    "model_fit = model.fit()\n",
    "\n",
    "# make prediction\n",
    "yhat = model_fit.predict(len(data), len(data), typ='levels')\n",
    "print(yhat)"
   ]
  },
  {
   "cell_type": "code",
   "execution_count": 12,
   "metadata": {
    "colab": {
     "base_uri": "https://localhost:8080/"
    },
    "id": "FBVVYfJXoFy1",
    "outputId": "67e0fc37-8372-4923-f4eb-1494dcdf5f8d"
   },
   "outputs": [
    {
     "name": "stdout",
     "output_type": "stream",
     "text": [
      "[100.40316504]\n"
     ]
    }
   ],
   "source": [
    "# Seasonal Autoregressive Integrated Moving-Average (SARIMA)\n",
    "\n",
    "# The Seasonal Autoregressive Integrated Moving Average (SARIMA) method models the next step in the sequence based on a linear blend of differenced observations, errors, differenced seasonal observations, and seasonal errors at prior time steps.\n",
    "# SARIMA enhances the ARIMA model with the ability to perform the same autoregression, differencing, and moving average modeling at the seasonal level.\n",
    "# The method is suitable for univariate time series with trend and/or seasonal components.\n",
    "\n",
    "from statsmodels.tsa.statespace.sarimax import SARIMAX\n",
    "from random import random\n",
    "\n",
    "# contrived dataset\n",
    "data = [x + random() for x in range(1, 100)]\n",
    "\n",
    "# fit model\n",
    "model = SARIMAX(data, order=(1, 1, 1), seasonal_order=(0, 0, 0, 0))\n",
    "model_fit = model.fit(disp=False)\n",
    "\n",
    "# make prediction\n",
    "yhat = model_fit.predict(len(data), len(data))\n",
    "print(yhat)"
   ]
  },
  {
   "cell_type": "code",
   "execution_count": 13,
   "metadata": {
    "colab": {
     "base_uri": "https://localhost:8080/"
    },
    "id": "fBxp9w9joF1u",
    "outputId": "91924c90-fb20-4f3f-9007-bad35966f476"
   },
   "outputs": [
    {
     "name": "stdout",
     "output_type": "stream",
     "text": [
      "[100.88208282]\n"
     ]
    }
   ],
   "source": [
    "# Seasonal Autoregressive Integrated Moving-Average with Exogenous Regressors (SARIMAX)\n",
    "\n",
    "# The Seasonal Autoregressive Integrated Moving-Average with Exogenous Regressors (SARIMAX) is an extension of the SARIMA model that also includes the modeling of exogenous variables.\n",
    "\n",
    "# Exogenous variables are also called covariates and can be thought of as parallel input sequences that have observations at the same time steps as the original series.\n",
    "# The primary series may be referred to as endogenous data to contrast it from the exogenous sequence(s). The observations for exogenous variables are included in the model directly at each time step and are not modeled in the same way as the primary endogenous sequence (e.g. as an AR, MA, etc. process).\n",
    "#The SARIMAX method can also be used to model the subsumed models with exogenous variables, such as ARX, MAX, ARMAX, and ARIMAX.\n",
    "# The method is suitable for univariate time series with trend and/or seasonal components and exogenous variables.\n",
    "\n",
    "from statsmodels.tsa.statespace.sarimax import SARIMAX\n",
    "from random import random\n",
    "\n",
    "# contrived dataset\n",
    "data1 = [x + random() for x in range(1, 100)]\n",
    "data2 = [x + random() for x in range(101, 200)]\n",
    "\n",
    "# fit model\n",
    "model = SARIMAX(data1, exog=data2, order=(1, 1, 1), seasonal_order=(0, 0, 0, 0))\n",
    "model_fit = model.fit(disp=False)\n",
    "\n",
    "# make prediction\n",
    "exog2 = [200 + random()]\n",
    "yhat = model_fit.predict(len(data1), len(data1), exog=[exog2])\n",
    "print(yhat)"
   ]
  },
  {
   "cell_type": "code",
   "execution_count": 16,
   "metadata": {
    "colab": {
     "base_uri": "https://localhost:8080/"
    },
    "id": "c5RQiuk_qxsv",
    "outputId": "1b4f7573-52dc-4844-ed32-965a7fbecd8c"
   },
   "outputs": [
    {
     "name": "stderr",
     "output_type": "stream",
     "text": [
      "/usr/local/lib/python3.10/dist-packages/statsmodels/tsa/statespace/varmax.py:160: EstimationWarning: Estimation of VARMA(p,q) models is not generically robust, due especially to identification issues.\n",
      "  warn('Estimation of VARMA(p,q) models is not generically robust,'\n"
     ]
    },
    {
     "name": "stdout",
     "output_type": "stream",
     "text": [
      "[[0.57446383 1.04772822]]\n"
     ]
    },
    {
     "name": "stderr",
     "output_type": "stream",
     "text": [
      "/usr/local/lib/python3.10/dist-packages/statsmodels/base/model.py:607: ConvergenceWarning: Maximum Likelihood optimization failed to converge. Check mle_retvals\n",
      "  warnings.warn(\"Maximum Likelihood optimization failed to \"\n"
     ]
    }
   ],
   "source": [
    "# Vector Autoregression Moving-Average (VARMA)\n",
    "\n",
    "# The Vector Autoregression Moving-Average (VARMA) method models the upcoming value in multiple time series by utilising the ARMA model approach. It is the generalization of ARMA to multiple parallel time series, e.g. multivariate time series.\n",
    "# The method is suitable for multivariate time series without trend and seasonal components.\n",
    "\n",
    "from statsmodels.tsa.statespace.varmax import VARMAX\n",
    "from random import random\n",
    "\n",
    "# contrived dataset with dependency\n",
    "data = list()\n",
    "for i in range(100):\n",
    "    v1 = random()\n",
    "    v2 = v1 + random()\n",
    "    row = [v1, v2]\n",
    "    data.append(row)\n",
    "\n",
    "# fit model\n",
    "model = VARMAX(data, order=(1, 1))\n",
    "model_fit = model.fit(disp=False)\n",
    "\n",
    "# make prediction\n",
    "yhat = model_fit.forecast()\n",
    "print(yhat)"
   ]
  },
  {
   "cell_type": "code",
   "execution_count": 18,
   "metadata": {
    "colab": {
     "base_uri": "https://localhost:8080/"
    },
    "id": "pZ89kg6bqxzb",
    "outputId": "37942842-e68b-48ff-a655-f14a02a971dc"
   },
   "outputs": [
    {
     "name": "stderr",
     "output_type": "stream",
     "text": [
      "/usr/local/lib/python3.10/dist-packages/statsmodels/tsa/statespace/varmax.py:160: EstimationWarning: Estimation of VARMA(p,q) models is not generically robust, due especially to identification issues.\n",
      "  warn('Estimation of VARMA(p,q) models is not generically robust,'\n"
     ]
    },
    {
     "name": "stdout",
     "output_type": "stream",
     "text": [
      "[[0.47262067 0.84227428]]\n"
     ]
    },
    {
     "name": "stderr",
     "output_type": "stream",
     "text": [
      "/usr/local/lib/python3.10/dist-packages/statsmodels/tsa/statespace/varmax.py:160: EstimationWarning: Estimation of VARMA(p,q) models is not generically robust, due especially to identification issues.\n",
      "  warn('Estimation of VARMA(p,q) models is not generically robust,'\n",
      "/usr/local/lib/python3.10/dist-packages/statsmodels/tsa/statespace/varmax.py:160: EstimationWarning: Estimation of VARMA(p,q) models is not generically robust, due especially to identification issues.\n",
      "  warn('Estimation of VARMA(p,q) models is not generically robust,'\n"
     ]
    }
   ],
   "source": [
    "# Vector Autoregression Moving-Average with Exogenous Regressors (VARMAX)\n",
    "\n",
    "# The Vector Autoregression Moving-Average with Exogenous Regressors (VARMAX) extends the capabilities of the VARMA model which also includes the modelling of exogenous variables. It is a multivariate version of the ARMAX method.\n",
    "# The VARMAX method can also be used to model the subsumed models with exogenous variables, such as VARX and VMAX.\n",
    "# The method is suitable for multivariate time series without trend and seasonal components with exogenous variables.\n",
    "\n",
    "from statsmodels.tsa.statespace.varmax import VARMAX\n",
    "from random import random\n",
    "\n",
    "# contrived dataset with dependency\n",
    "data = list()\n",
    "for i in range(100):\n",
    "    v1 = random()\n",
    "    v2 = v1 + random()\n",
    "    row = [v1, v2]\n",
    "    data.append(row)\n",
    "data_exog = [x + random() for x in range(100)]\n",
    "\n",
    "# fit model\n",
    "model = VARMAX(data, exog=data_exog, order=(1, 1))\n",
    "model_fit = model.fit(disp=False)\n",
    "\n",
    "# make prediction\n",
    "data_exog2 = [[100]]\n",
    "yhat = model_fit.forecast(exog=data_exog2)\n",
    "print(yhat)"
   ]
  },
  {
   "cell_type": "code",
   "execution_count": 19,
   "metadata": {
    "colab": {
     "base_uri": "https://localhost:8080/"
    },
    "id": "_NzrKjVYr0VS",
    "outputId": "dab1f766-1cab-47db-fba0-f8fe2016f1a1"
   },
   "outputs": [
    {
     "name": "stdout",
     "output_type": "stream",
     "text": [
      "[99.6311319]\n"
     ]
    }
   ],
   "source": [
    "# Simple Exponential Smoothing (SES)\n",
    "\n",
    "# The Simple Exponential Smoothing (SES) method models the next time step as an exponentially weighted linear function of observations at prior time steps.\n",
    "# The method is suitable for univariate time series without trend and seasonal components.\n",
    "\n",
    "from statsmodels.tsa.holtwinters import SimpleExpSmoothing\n",
    "from random import random\n",
    "\n",
    "# contrived dataset\n",
    "data = [x + random() for x in range(1, 100)]\n",
    "\n",
    "# fit model\n",
    "model = SimpleExpSmoothing(data)\n",
    "model_fit = model.fit()\n",
    "\n",
    "# make prediction\n",
    "yhat = model_fit.predict(len(data), len(data))\n",
    "print(yhat)"
   ]
  },
  {
   "cell_type": "code",
   "execution_count": 20,
   "metadata": {
    "colab": {
     "base_uri": "https://localhost:8080/"
    },
    "id": "-lmc1CXlr0Zn",
    "outputId": "26d5e64c-950a-4af5-9648-302fbeef19ef"
   },
   "outputs": [
    {
     "name": "stdout",
     "output_type": "stream",
     "text": [
      "[99.30766328]\n"
     ]
    }
   ],
   "source": [
    "# Holt Winter’s Exponential Smoothing (HWES)\n",
    "\n",
    "# The Holt Winter’s Exponential Smoothing (HWES) also called the Triple Exponential Smoothing method models the next time step as an exponentially weighted linear function of observations at prior time steps, taking trends and seasonality into account.\n",
    "# The method is suitable for univariate time series with trend and/or seasonal components.\n",
    "\n",
    "from statsmodels.tsa.holtwinters import ExponentialSmoothing\n",
    "from random import random\n",
    "\n",
    "# contrived dataset\n",
    "data = [x + random() for x in range(1, 100)]\n",
    "\n",
    "# fit model\n",
    "model = ExponentialSmoothing(data)\n",
    "model_fit = model.fit()\n",
    "\n",
    "# make prediction\n",
    "yhat = model_fit.predict(len(data), len(data))\n",
    "print(yhat)"
   ]
  },
  {
   "cell_type": "code",
   "execution_count": null,
   "metadata": {
    "id": "OBrb0nL0st5D"
   },
   "outputs": [],
   "source": []
  },
  {
   "cell_type": "markdown",
   "metadata": {
    "id": "SL5-IIwMmhDG"
   },
   "source": []
  }
 ],
 "metadata": {
  "colab": {
   "provenance": []
  },
  "kernelspec": {
   "display_name": "Python 3 (ipykernel)",
   "language": "python",
   "name": "python3"
  },
  "language_info": {
   "codemirror_mode": {
    "name": "ipython",
    "version": 3
   },
   "file_extension": ".py",
   "mimetype": "text/x-python",
   "name": "python",
   "nbconvert_exporter": "python",
   "pygments_lexer": "ipython3",
   "version": "3.11.5"
  }
 },
 "nbformat": 4,
 "nbformat_minor": 1
}
